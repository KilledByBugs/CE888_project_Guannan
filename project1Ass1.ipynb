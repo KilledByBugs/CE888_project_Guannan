{
  "nbformat": 4,
  "nbformat_minor": 0,
  "metadata": {
    "colab": {
      "name": "project1Ass1.ipynb",
      "provenance": [],
      "authorship_tag": "ABX9TyOibw2D8HdkZ9hlTVamhD1z",
      "include_colab_link": true
    },
    "kernelspec": {
      "name": "python3",
      "display_name": "Python 3"
    }
  },
  "cells": [
    {
      "cell_type": "markdown",
      "metadata": {
        "id": "view-in-github",
        "colab_type": "text"
      },
      "source": [
        "<a href=\"https://colab.research.google.com/github/KilledByBugs/CE888_project_Guannan/blob/main/project1Ass1.ipynb\" target=\"_parent\"><img src=\"https://colab.research.google.com/assets/colab-badge.svg\" alt=\"Open In Colab\"/></a>"
      ]
    },
    {
      "cell_type": "code",
      "metadata": {
        "colab": {
          "base_uri": "https://localhost:8080/"
        },
        "id": "YVDDrI2As1C0",
        "outputId": "e08256ed-5b6f-422b-aada-dde3beae5621"
      },
      "source": [
        "import numpy as np\r\n",
        "import os\r\n",
        "from sklearn.metrics import confusion_matrix\r\n",
        "import seaborn as sn; sn.set(font_scale=1.4)\r\n",
        "from sklearn.utils import shuffle           \r\n",
        "import matplotlib.pyplot as plt             \r\n",
        "import cv2                                 \r\n",
        "import tensorflow as tf                \r\n",
        "from tqdm import tqdm\r\n",
        "#dataset are saved to google drive, now mount the google drive\r\n",
        "from google.colab import drive\r\n",
        "from google.colab import files\r\n",
        "\r\n",
        "drive.mount('/content/drive') #/content/drive/My Drive/"
      ],
      "execution_count": 2,
      "outputs": [
        {
          "output_type": "stream",
          "text": [
            "Mounted at /content/drive\n"
          ],
          "name": "stdout"
        }
      ]
    },
    {
      "cell_type": "code",
      "metadata": {
        "colab": {
          "base_uri": "https://localhost:8080/"
        },
        "id": "72x2RmFR8u_a",
        "outputId": "db25f042-c14b-4231-a0c3-d8d2372f020d"
      },
      "source": [
        "!mkdir -p drive\r\n",
        "!ls"
      ],
      "execution_count": 3,
      "outputs": [
        {
          "output_type": "stream",
          "text": [
            "drive  sample_data\n"
          ],
          "name": "stdout"
        }
      ]
    },
    {
      "cell_type": "code",
      "metadata": {
        "colab": {
          "base_uri": "https://localhost:8080/"
        },
        "id": "51F7vzoHKgap",
        "outputId": "34ba6829-3cb6-4806-f9d7-f2255be9b900"
      },
      "source": [
        "os.chdir(\"/content/drive/My Drive/machineLearning/CE888\")\r\n",
        "!ls"
      ],
      "execution_count": 4,
      "outputs": [
        {
          "output_type": "stream",
          "text": [
            "__MACOSX  Test\tTest.zip  Training  Training.zip\n"
          ],
          "name": "stdout"
        }
      ]
    },
    {
      "cell_type": "code",
      "metadata": {
        "id": "MaJDY9xrtO_L"
      },
      "source": [
        "class_names = ['Fire', 'No_Fire']\r\n",
        "classes_number = 2 \r\n",
        "class_names_label = {class_name:i for i, class_name in enumerate(class_names)}\r\n",
        "IMAGE_SIZE = (254, 254)\r\n"
      ],
      "execution_count": 5,
      "outputs": []
    },
    {
      "cell_type": "code",
      "metadata": {
        "id": "3hmpfoLwzEam"
      },
      "source": [
        "def load_data():\r\n",
        "    \"\"\"\r\n",
        "        Load the data:\r\n",
        "            - 39,375 frames to train the network.\r\n",
        "            - another 8,617 frames are labeled for the test data\r\n",
        "    \"\"\"\r\n",
        "    \r\n",
        "    datasets = ['/content/drive/My Drive/machineLearning/CE888/Training', '/content/drive/My Drive/machineLearning/CE888/Test']\r\n",
        "    output = []\r\n",
        "    \r\n",
        "    # Iterate through training and test sets\r\n",
        "    for dataset in datasets:\r\n",
        "        \r\n",
        "        images = []\r\n",
        "        labels = []\r\n",
        "        \r\n",
        "        print(\"Loading {}\".format(dataset))\r\n",
        "        \r\n",
        "        # Iterate through each folder corresponding to a category\r\n",
        "        for folder in os.listdir(dataset):\r\n",
        "            label = class_names_label[folder]\r\n",
        "            \r\n",
        "            # Iterate through each image in our folder\r\n",
        "            for file in tqdm(os.listdir(os.path.join(dataset, folder))):\r\n",
        "                \r\n",
        "                # Get the path name of the image\r\n",
        "                img_path = os.path.join(os.path.join(dataset, folder), file)\r\n",
        "                \r\n",
        "                # Open and resize the img\r\n",
        "                image = cv2.imread(img_path)\r\n",
        "                image = cv2.cvtColor(image, cv2.COLOR_BGR2RGB)\r\n",
        "                image = cv2.resize(image, IMAGE_SIZE) \r\n",
        "                \r\n",
        "                # Append the image and its corresponding label to the output\r\n",
        "                images.append(image)\r\n",
        "                labels.append(label)\r\n",
        "                \r\n",
        "        images = np.array(images, dtype = 'float32')\r\n",
        "        labels = np.array(labels, dtype = 'int32')   \r\n",
        "        \r\n",
        "        output.append((images, labels))\r\n",
        "\r\n",
        "    return output"
      ],
      "execution_count": 6,
      "outputs": []
    },
    {
      "cell_type": "code",
      "metadata": {
        "colab": {
          "base_uri": "https://localhost:8080/"
        },
        "id": "4KVU_nguMzc3",
        "outputId": "56d93f0b-8574-442b-e3b0-d86aa3864a96"
      },
      "source": [
        "(train_images, train_labels), (test_images, test_labels) = load_data()"
      ],
      "execution_count": null,
      "outputs": [
        {
          "output_type": "stream",
          "text": [
            "Loading /content/drive/My Drive/machineLearning/CE888/Training\n"
          ],
          "name": "stdout"
        },
        {
          "output_type": "stream",
          "text": [
            " 13%|█▎        | 1677/12886 [22:08<2:27:22,  1.27it/s]"
          ],
          "name": "stderr"
        }
      ]
    }
  ]
}